{
 "cells": [
  {
   "cell_type": "code",
   "execution_count": 9,
   "metadata": {},
   "outputs": [],
   "source": [
    "import pandas as pd\n",
    "import json"
   ]
  },
  {
   "cell_type": "code",
   "execution_count": 10,
   "metadata": {},
   "outputs": [],
   "source": [
    "def clean_list_of_data(cafes_list, keys_to_remove):\n",
    "    for cafe in cafes_list:\n",
    "        for key in keys_to_remove:\n",
    "            cafe.pop(key, None) \n",
    "    return cafes_list"
   ]
  },
  {
   "cell_type": "code",
   "execution_count": 11,
   "metadata": {},
   "outputs": [],
   "source": [
    "with open ('dataset_google-maps-extractor_2024-04-15_Brno_kavarny.json', encoding='utf-8') as file:\n",
    "    cafes = json.load(file)"
   ]
  },
  {
   "cell_type": "code",
   "execution_count": 12,
   "metadata": {},
   "outputs": [],
   "source": [
    "keys_to_remove = ['searchPageUrl', 'searchPageLoadedUrl', 'isAdvertisement', 'price', 'cid', 'imagesCount', 'imageCategories', 'scrapedAt', 'googleFoodUrl', \n",
    "                  'hotelAds', 'peopleAlsoSearch', 'gasPrices', 'neighborhood', 'state', 'hotelDescription']\n",
    "\n",
    "cafes_cleaned = clean_list_of_data(cafes, keys_to_remove)"
   ]
  },
  {
   "cell_type": "code",
   "execution_count": 13,
   "metadata": {},
   "outputs": [],
   "source": [
    "with open('dataset_google-maps-extractor_Brno_kavarny_cleaned.json', mode='w', encoding='utf-8') as output_file:\n",
    "    json.dump(cafes_cleaned, output_file, indent=4, ensure_ascii=False)"
   ]
  }
 ],
 "metadata": {
  "kernelspec": {
   "display_name": "Python 3",
   "language": "python",
   "name": "python3"
  },
  "language_info": {
   "codemirror_mode": {
    "name": "ipython",
    "version": 3
   },
   "file_extension": ".py",
   "mimetype": "text/x-python",
   "name": "python",
   "nbconvert_exporter": "python",
   "pygments_lexer": "ipython3",
   "version": "3.12.2"
  }
 },
 "nbformat": 4,
 "nbformat_minor": 2
}
