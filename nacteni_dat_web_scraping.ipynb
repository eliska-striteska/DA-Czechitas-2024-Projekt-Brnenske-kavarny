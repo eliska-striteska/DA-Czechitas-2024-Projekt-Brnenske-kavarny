{
 "cells": [
  {
   "cell_type": "code",
   "execution_count": 2,
   "metadata": {},
   "outputs": [],
   "source": [
    "import pandas as pd\n",
    "import json"
   ]
  },
  {
   "cell_type": "code",
   "execution_count": 3,
   "metadata": {},
   "outputs": [],
   "source": [
    "with open ('dataset_google-maps-extractor_2024-04-15_Brno_kavarny.json', encoding='utf-8') as file:\n",
    "    cafes = json.load(file)"
   ]
  },
  {
   "cell_type": "code",
   "execution_count": 4,
   "metadata": {},
   "outputs": [],
   "source": [
    "def filter_keys_in_list_of_cafes(data, keys):\n",
    "    # filtruje klíče ve slovnících \"cafe\" obsažených v celkovém seznamu\n",
    "    # parametry: data = stažená data, keys = seznam klíčů, které chceme zachovat\n",
    "    filtered_data = []\n",
    "    for cafe in data:\n",
    "        filtered_cafe = {}\n",
    "        for key, value in cafe.items():\n",
    "            if key in keys:\n",
    "                filtered_cafe[key] = value\n",
    "        filtered_data.append(filtered_cafe)\n",
    "    return filtered_data"
   ]
  },
  {
   "cell_type": "code",
   "execution_count": 5,
   "metadata": {},
   "outputs": [],
   "source": [
    "def filter_by_category(data):\n",
    "    # filtruje seznam slovníků kaváren podle klíče \"categoryName\"\n",
    "    # parametr: data = stažená data\n",
    "    filtered_cafes = []\n",
    "    for cafe in data:\n",
    "        if cafe['categoryName'] == 'Cafe' or cafe['categoryName'] == 'Coffee shop' or cafe['categoryName'] == 'Espresso bar':\n",
    "            filtered_cafes.append(cafe)\n",
    "    return filtered_cafes"
   ]
  },
  {
   "cell_type": "code",
   "execution_count": 6,
   "metadata": {},
   "outputs": [],
   "source": [
    "cafes_cleaned = filter_keys_in_list_of_cafes(cafes, ['searchString', 'title', 'categoryName', 'address', 'street', 'city', \n",
    "               'postalCode', 'claimThisBusiness', 'location', 'totalScore', 'reviewsCount', 'reviewsDistribution', \n",
    "               'temporarilyClosed', 'placeId', 'cid', 'openingHours', 'url'])"
   ]
  },
  {
   "cell_type": "code",
   "execution_count": 7,
   "metadata": {},
   "outputs": [],
   "source": [
    "cafes_filtered = filter_by_category(cafes_cleaned)"
   ]
  },
  {
   "cell_type": "code",
   "execution_count": 8,
   "metadata": {},
   "outputs": [],
   "source": [
    "with open('dataset_google-maps-extractor_Brno_kavarny_cleaned.json', mode='w', encoding='utf-8') as output_file:\n",
    "    json.dump(cafes_filtered, output_file, indent=4, ensure_ascii=False)"
   ]
  },
  {
   "cell_type": "code",
   "execution_count": 9,
   "metadata": {},
   "outputs": [],
   "source": [
    "with open ('dataset_google-maps-extractor_2024-04-15_Brno_cafe.json', encoding='utf-8') as file:\n",
    "    category_cafe = json.load(file)"
   ]
  },
  {
   "cell_type": "code",
   "execution_count": 10,
   "metadata": {},
   "outputs": [],
   "source": [
    "with open ('dataset_google-maps-extractor_2024-04-18_Brno_Coffee_shop.json', encoding='utf-8') as file:\n",
    "    category_coffee_shop = json.load(file)"
   ]
  },
  {
   "cell_type": "code",
   "execution_count": 11,
   "metadata": {},
   "outputs": [],
   "source": [
    "with open ('dataset_google-maps-extractor_2024-04-18_Brno_Espresso_bar.json', encoding='utf-8') as file:\n",
    "    category_espresso_bar = json.load(file)"
   ]
  },
  {
   "cell_type": "code",
   "execution_count": 12,
   "metadata": {},
   "outputs": [],
   "source": [
    "category_cafe_cleaned = filter_keys_in_list_of_cafes(category_cafe, ['searchString', 'title', 'categoryName', \n",
    "            'address', 'street', 'city', 'postalCode', 'claimThisBusiness', 'location', 'totalScore', \n",
    "            'reviewsCount', 'reviewsDistribution', 'temporarilyClosed', 'placeId', 'cid', 'openingHours', 'url'])"
   ]
  },
  {
   "cell_type": "code",
   "execution_count": 13,
   "metadata": {},
   "outputs": [],
   "source": [
    "category_cafe_filtered = filter_by_category(category_cafe_cleaned)"
   ]
  },
  {
   "cell_type": "code",
   "execution_count": 14,
   "metadata": {},
   "outputs": [],
   "source": [
    "category_coffee_shop_cleaned = filter_keys_in_list_of_cafes(category_coffee_shop, ['searchString', 'title', 'categoryName', \n",
    "            'address', 'street', 'city', 'postalCode', 'claimThisBusiness', 'location', 'totalScore', \n",
    "            'reviewsCount', 'reviewsDistribution', 'temporarilyClosed', 'placeId', 'cid', 'openingHours', 'url'])"
   ]
  },
  {
   "cell_type": "code",
   "execution_count": 15,
   "metadata": {},
   "outputs": [],
   "source": [
    "category_coffee_shop_filtered = filter_by_category(category_coffee_shop_cleaned)"
   ]
  },
  {
   "cell_type": "code",
   "execution_count": 16,
   "metadata": {},
   "outputs": [],
   "source": [
    "category_espresso_bar_cleaned = filter_keys_in_list_of_cafes(category_espresso_bar, ['searchString', 'title', 'categoryName', \n",
    "            'address', 'street', 'city', 'postalCode', 'claimThisBusiness', 'location', 'totalScore', \n",
    "            'reviewsCount', 'reviewsDistribution', 'temporarilyClosed', 'placeId', 'cid', 'openingHours', 'url'])"
   ]
  },
  {
   "cell_type": "code",
   "execution_count": 17,
   "metadata": {},
   "outputs": [],
   "source": [
    "category_espresso_bar_filtered = filter_by_category(category_espresso_bar_cleaned)"
   ]
  },
  {
   "cell_type": "code",
   "execution_count": 18,
   "metadata": {},
   "outputs": [],
   "source": [
    "with open('dataset_google-maps-extractor_Brno_category_cafe_cleaned.json', mode='w', encoding='utf-8') as output_file:\n",
    "    json.dump(category_cafe_filtered, output_file, indent=4, ensure_ascii=False)\n",
    "\n",
    "with open('dataset_google-maps-extractor_Brno_category_coffee_shop_cleaned.json', mode='w', encoding='utf-8') as output_file:\n",
    "    json.dump(category_coffee_shop_filtered, output_file, indent=4, ensure_ascii=False)\n",
    "\n",
    "with open('dataset_google-maps-extractor_Brno_category_espresso_bar_cleaned.json', mode='w', encoding='utf-8') as output_file:\n",
    "    json.dump(category_espresso_bar_filtered, output_file, indent=4, ensure_ascii=False)"
   ]
  },
  {
   "cell_type": "code",
   "execution_count": 19,
   "metadata": {},
   "outputs": [
    {
     "data": {
      "text/plain": [
       "{'4Comfort',\n",
       " 'Caffe Idea S. R. O.',\n",
       " 'Caffe Piccolo Mondo',\n",
       " 'Café Leitnerka',\n",
       " 'Café Pilát',\n",
       " 'Cedit - Cafe Espresso di Trieste',\n",
       " 'City Cafe',\n",
       " 'DuckBar',\n",
       " 'Galerie Vaňkovka',\n",
       " 'Klárabára Winecafé',\n",
       " 'König Cafe',\n",
       " 'Leyaly lounge',\n",
       " 'Liberty Cafe',\n",
       " 'Mapes, S.r.o. - Cafe Elefant',\n",
       " 'Monte Bú restaurant a steakhouse',\n",
       " 'PONAVA',\n",
       " 'Pražírna Brno',\n",
       " 'Surgal Clinic Café bar',\n",
       " 'Vino Káva',\n",
       " 'ZANNAM Restaurant',\n",
       " 'on billiards',\n",
       " 'Čajovna - Alembiq',\n",
       " 'Čajovna - Cafe shop',\n",
       " 'Čerpací stanice Shell Brno Řečkovice'}"
      ]
     },
     "execution_count": 19,
     "metadata": {},
     "output_type": "execute_result"
    }
   ],
   "source": [
    "set_cafe = set(cafe[\"title\"] for cafe in category_cafe_filtered)\n",
    "set_kavarna = set(cafe[\"title\"]for cafe in cafes_filtered)\n",
    "\n",
    "cafe_diff_titles = set_cafe.difference(set_kavarna)\n",
    "\n",
    "cafe_diff_titles"
   ]
  },
  {
   "cell_type": "code",
   "execution_count": 20,
   "metadata": {},
   "outputs": [],
   "source": [
    "diff_cafe = []\n",
    "\n",
    "for cafe in category_cafe_filtered:\n",
    "    if cafe['title'] in cafe_diff_titles:\n",
    "        diff_cafe.append(cafe)\n",
    "\n",
    "with open('diff_cafe.json', mode='w', encoding='utf-8') as output_file:\n",
    "    json.dump(diff_cafe, output_file, indent=4, ensure_ascii=False)"
   ]
  },
  {
   "cell_type": "code",
   "execution_count": 21,
   "metadata": {},
   "outputs": [
    {
     "data": {
      "text/plain": [
       "{'AROHA Café',\n",
       " 'Bavard cafe',\n",
       " 'Beach Bar Hříbek',\n",
       " 'BubbleTea, OXO TEA - kuličky, tapioka, čajové koktejly - Brno Nadraží',\n",
       " 'COFFEE POINT MASARYKOVA by MOTMOT',\n",
       " 'CUPCAKEKÁRNA',\n",
       " 'Cafe kiosk',\n",
       " 'Café In The Ghetto',\n",
       " 'Café Rudolf',\n",
       " 'ChURROS',\n",
       " 'Cukrárna Cukrlenka',\n",
       " 'Cukrárna Eliška',\n",
       " 'Cukrárna Větrník - Lidická',\n",
       " 'Cukrárna Větrník - NC Královo Pole',\n",
       " 'Cukrárna Větrník - Černá Pole',\n",
       " 'Cukrárnička Husovice',\n",
       " 'Dezert Café Joštova',\n",
       " 'Ema Cafe',\n",
       " 'Fruitisimo Campus',\n",
       " 'Future Sailors',\n",
       " 'IKEA',\n",
       " 'IQOS Partnerská prodejna',\n",
       " 'JIP Svět potravin',\n",
       " 'KIMONO coffee',\n",
       " 'Kinokavárna Brno',\n",
       " 'Kobliha',\n",
       " 'Little Saigon Brno',\n",
       " 'Liškafé - prodejna',\n",
       " 'Mellow',\n",
       " 'Mlsná holka',\n",
       " 'Na zmrzlinu',\n",
       " 'Patisserie Větrník',\n",
       " 'Pikola Espresso Bar Brno',\n",
       " 'SORRY - we bake differently',\n",
       " 'Scuk na České',\n",
       " 'Sesamo',\n",
       " 'Sound café&bar Vyhlídka',\n",
       " 'Správné místo',\n",
       " 'Stánek s trdelníky',\n",
       " 'Tchibo',\n",
       " 'Teamcaffe bistro',\n",
       " 'Tivoli cafe',\n",
       " 'Trdlokafe Královo Pole',\n",
       " 'Turkish Supermarket, Halal Brno',\n",
       " 'Tutti Frutti',\n",
       " 'TŘPYT',\n",
       " 'VEGA shop & coffee',\n",
       " 'Veg8Café',\n",
       " 'Za Zrcadlem',\n",
       " 'qb coffee roasters',\n",
       " 'tyjátr coffee & wine',\n",
       " 'Žádný Cukrbliky'}"
      ]
     },
     "execution_count": 21,
     "metadata": {},
     "output_type": "execute_result"
    }
   ],
   "source": [
    "set_coffee_shop = set(cafe[\"title\"] for cafe in category_coffee_shop_filtered)\n",
    "set_kavarna = set(cafe[\"title\"]for cafe in cafes_filtered)\n",
    "\n",
    "coffee_shop_diff_titles = set_coffee_shop.difference(set_kavarna)\n",
    "\n",
    "coffee_shop_diff_titles"
   ]
  },
  {
   "cell_type": "code",
   "execution_count": 22,
   "metadata": {},
   "outputs": [],
   "source": [
    "diff_coffee_shop = []\n",
    "\n",
    "for cafe in category_coffee_shop_filtered:\n",
    "    if cafe['title'] in coffee_shop_diff_titles:\n",
    "        diff_coffee_shop.append(cafe)\n",
    "\n",
    "with open('diff_coffee_shop.json', mode='w', encoding='utf-8') as output_file:\n",
    "    json.dump(diff_coffee_shop, output_file, indent=4, ensure_ascii=False)"
   ]
  },
  {
   "cell_type": "code",
   "execution_count": 23,
   "metadata": {},
   "outputs": [
    {
     "data": {
      "text/plain": [
       "{'OC Nosreti - Café 52', 'Patio Café & Bar'}"
      ]
     },
     "execution_count": 23,
     "metadata": {},
     "output_type": "execute_result"
    }
   ],
   "source": [
    "set_espresso_bar = set(cafe[\"title\"] for cafe in category_espresso_bar_filtered)\n",
    "set_kavarna = set(cafe[\"title\"]for cafe in cafes_filtered)\n",
    "\n",
    "espresso_bar_diff_titles = set_espresso_bar.difference(set_kavarna)\n",
    "\n",
    "espresso_bar_diff_titles"
   ]
  },
  {
   "cell_type": "code",
   "execution_count": 24,
   "metadata": {},
   "outputs": [],
   "source": [
    "diff_espresso_bar = []\n",
    "\n",
    "for cafe in category_espresso_bar_filtered:\n",
    "    if cafe['title'] in espresso_bar_diff_titles:\n",
    "        diff_espresso_bar.append(cafe)\n",
    "\n",
    "with open('diff_espresso_bar.json', mode='w', encoding='utf-8') as output_file:\n",
    "    json.dump(diff_espresso_bar, output_file, indent=4, ensure_ascii=False)"
   ]
  }
 ],
 "metadata": {
  "kernelspec": {
   "display_name": "Python 3",
   "language": "python",
   "name": "python3"
  },
  "language_info": {
   "codemirror_mode": {
    "name": "ipython",
    "version": 3
   },
   "file_extension": ".py",
   "mimetype": "text/x-python",
   "name": "python",
   "nbconvert_exporter": "python",
   "pygments_lexer": "ipython3",
   "version": "3.12.2"
  }
 },
 "nbformat": 4,
 "nbformat_minor": 2
}
