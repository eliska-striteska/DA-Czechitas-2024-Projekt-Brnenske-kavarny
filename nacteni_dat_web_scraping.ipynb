{
 "cells": [
  {
   "cell_type": "code",
   "execution_count": 22,
   "metadata": {},
   "outputs": [],
   "source": [
    "import pandas as pd\n",
    "import json"
   ]
  },
  {
   "cell_type": "code",
   "execution_count": 23,
   "metadata": {},
   "outputs": [],
   "source": [
    "with open ('dataset_google-maps-extractor_2024-04-15_Brno_kavarny.json', encoding='utf-8') as file:\n",
    "    cafes = json.load(file)"
   ]
  },
  {
   "cell_type": "code",
   "execution_count": 24,
   "metadata": {},
   "outputs": [],
   "source": [
    "def filter_keys_in_list_of_cafes(data, keys):\n",
    "    # filtruje klíče ve slovnících \"cafe\" obsažených v celkovém senzmau\n",
    "    # parametry: data = stažená data, keys = seznam klíčů, které chceme zachovat\n",
    "    filtered_data = []\n",
    "    for cafe in data:\n",
    "        filtered_cafe = {key: value for key, value in cafe.items() if key in keys}\n",
    "        filtered_data.append(filtered_cafe)\n",
    "    return filtered_data"
   ]
  },
  {
   "cell_type": "code",
   "execution_count": 25,
   "metadata": {},
   "outputs": [],
   "source": [
    "def filter_by_category(data):\n",
    "    # filtruje seznam slovníků kaváren podle klíče \"categoryName\"\n",
    "    # parametr: data = stažená data\n",
    "    filtered_cafes = []\n",
    "    for cafe in data:\n",
    "        if cafe['categoryName'] == 'Cafe' or cafe['categoryName'] == 'Coffee shop' or cafe['categoryName'] == 'Espresso bar':\n",
    "            filtered_cafes.append(cafe)\n",
    "    return filtered_cafes"
   ]
  },
  {
   "cell_type": "code",
   "execution_count": 26,
   "metadata": {},
   "outputs": [],
   "source": [
    "cafes_cleaned = filter_keys_in_list_of_cafes(cafes, ['searchString', 'title', 'categoryName', 'address', 'street', 'city', \n",
    "               'postalCode', 'location', 'totalScore', 'reviewsCount', 'reviewsDistribution', 'openingHours', 'url'])"
   ]
  },
  {
   "cell_type": "code",
   "execution_count": 27,
   "metadata": {},
   "outputs": [],
   "source": [
    "cafes_filtered = filter_by_category(cafes_cleaned)"
   ]
  },
  {
   "cell_type": "code",
   "execution_count": 28,
   "metadata": {},
   "outputs": [],
   "source": [
    "with open('dataset_google-maps-extractor_Brno_kavarny_cleaned.json', mode='w', encoding='utf-8') as output_file:\n",
    "    json.dump(cafes_filtered, output_file, indent=4, ensure_ascii=False)"
   ]
  }
 ],
 "metadata": {
  "kernelspec": {
   "display_name": "Python 3",
   "language": "python",
   "name": "python3"
  },
  "language_info": {
   "codemirror_mode": {
    "name": "ipython",
    "version": 3
   },
   "file_extension": ".py",
   "mimetype": "text/x-python",
   "name": "python",
   "nbconvert_exporter": "python",
   "pygments_lexer": "ipython3",
   "version": "3.12.2"
  }
 },
 "nbformat": 4,
 "nbformat_minor": 2
}
